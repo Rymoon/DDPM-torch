{
 "cells": [
  {
   "cell_type": "code",
   "execution_count": 3,
   "metadata": {},
   "outputs": [],
   "source": [
    "\n",
    "import math\n",
    "import os\n",
    "from pathlib import Path\n",
    "from typing import Tuple\n",
    "\n",
    "import numpy as np\n",
    "import pytorch_lightning as pl\n",
    "import skimage\n",
    "import torch\n",
    "from matplotlib import pyplot as plt\n",
    "from tqdm import tqdm, trange\n"
   ]
  },
  {
   "cell_type": "code",
   "execution_count": 4,
   "metadata": {},
   "outputs": [],
   "source": [
    "from myddpm_pytorch.apps.ddpm import ImageDataset\n",
    "DEBUG = True\n",
    "train_name = \"ddpm2__v2\" if not DEBUG else \"ddpm2__v2__try \"\n",
    "\"\"\"\n",
    "{root_dir}/version_{}:\n",
    "    /lightning_logs/ ...weights\n",
    "    /sample/ ...training_samples\n",
    "\n",
    "Assume that:\n",
    "- \n",
    "\n",
    "\"\"\"\n",
    "import pytorch_lightning as pl\n",
    "from pytorch_lightning.callbacks import ModelCheckpoint\n",
    "\n",
    "import myddpm_pytorch\n",
    "\n",
    "pkg_root = Path(myddpm_pytorch.__file__).parent\n",
    "root_dir=  Path(pkg_root,\"Results\",\"ddpm_ipynb\").as_posix()\n",
    "gpuid = 0\n",
    "\n",
    "\n",
    "\n",
    "dataset = ImageDataset([\n",
    "    Path(pkg_root,\"../Datasets/CelebAHQ/data256x256\").as_posix(),\n",
    "    Path(pkg_root,\"../Datasets/CelebAHQ/data256x256_valid\").as_posix(),\n",
    "    ],128) # resize to given size\n",
    "\n"
   ]
  },
  {
   "cell_type": "code",
   "execution_count": 5,
   "metadata": {},
   "outputs": [
    {
     "name": "stdout",
     "output_type": "stream",
     "text": [
      "14034\n"
     ]
    }
   ],
   "source": [
    "from myddpm_pytorch.apps.ddpm import list_pictures\n",
    "folder = [\n",
    "    Path(pkg_root,\"../Datasets/CelebAHQ/data256x256\").as_posix(),\n",
    "    Path(pkg_root,\"../Datasets/CelebAHQ/data256x256_valid\").as_posix(),\n",
    "    ]\n",
    "pimgs = list_pictures(folder) if isinstance(folder,str) else sum((list_pictures(p) for p in folder),[])\n",
    "print(len(pimgs))"
   ]
  },
  {
   "cell_type": "code",
   "execution_count": null,
   "metadata": {},
   "outputs": [],
   "source": []
  },
  {
   "cell_type": "code",
   "execution_count": 6,
   "metadata": {},
   "outputs": [
    {
     "name": "stdout",
     "output_type": "stream",
     "text": [
      "14034\n",
      "['00001', '00004', '00005', '00013', '00014', '00018', '00021', '00023', '00025', '00027']\n"
     ]
    }
   ],
   "source": [
    "print(len(dataset))\n",
    "\n",
    "print([Path(s).stem for s in dataset._files[:10]])\n"
   ]
  },
  {
   "cell_type": "code",
   "execution_count": 7,
   "metadata": {},
   "outputs": [
    {
     "name": "stdout",
     "output_type": "stream",
     "text": [
      "- Shape of dataset[0]: torch.Size([3, 128, 128])\n"
     ]
    }
   ],
   "source": [
    "print(f\"- Shape of dataset[0]: {dataset[0].shape}\")"
   ]
  },
  {
   "cell_type": "code",
   "execution_count": 8,
   "metadata": {},
   "outputs": [],
   "source": [
    "from myddpm_pytorch.apps.ddpm import ImageDataModule\n",
    "\n",
    "dm1 = ImageDataModule([\n",
    "        Path(pkg_root,\"../Datasets/CelebAHQ_1\").as_posix(),\n",
    "        ],128,16)\n",
    "dm1.setup()\n",
    "\n",
    "tsr0 = next(iter(dm1.train_dataloader()))"
   ]
  },
  {
   "cell_type": "code",
   "execution_count": 9,
   "metadata": {},
   "outputs": [
    {
     "name": "stdout",
     "output_type": "stream",
     "text": [
      "tensor(-1.) tensor(0.9373) torch.Size([16, 3, 128, 128])\n"
     ]
    }
   ],
   "source": [
    "print(tsr0.min(),tsr0.max(),tsr0.shape)"
   ]
  }
 ],
 "metadata": {
  "kernelspec": {
   "display_name": "pytorch112",
   "language": "python",
   "name": "python3"
  },
  "language_info": {
   "codemirror_mode": {
    "name": "ipython",
    "version": 3
   },
   "file_extension": ".py",
   "mimetype": "text/x-python",
   "name": "python",
   "nbconvert_exporter": "python",
   "pygments_lexer": "ipython3",
   "version": "3.10.10"
  },
  "orig_nbformat": 4
 },
 "nbformat": 4,
 "nbformat_minor": 2
}
